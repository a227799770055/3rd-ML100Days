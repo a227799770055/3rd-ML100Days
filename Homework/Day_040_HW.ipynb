{
 "cells": [
  {
   "cell_type": "markdown",
   "metadata": {},
   "source": [
    "## [作業重點]\n",
    "使用 Sklearn 中的 Lasso, Ridge 模型，來訓練各種資料集，務必了解送進去模型訓練的**資料型態**為何，也請了解模型中各項參數的意義。\n",
    "\n",
    "機器學習的模型非常多種，但要訓練的資料多半有固定的格式，確保你了解訓練資料的格式為何，這樣在應用新模型時，就能夠最快的上手開始訓練！"
   ]
  },
  {
   "cell_type": "markdown",
   "metadata": {},
   "source": [
    "## 練習時間\n",
    "試著使用 sklearn datasets 的其他資料集 (boston, ...)，來訓練自己的線性迴歸模型，並加上適當的正則化來觀察訓練情形。"
   ]
  },
  {
   "cell_type": "code",
   "execution_count": 12,
   "metadata": {},
   "outputs": [],
   "source": [
    "import numpy as np\n",
    "import matplotlib.pyplot as plt\n",
    "from sklearn import datasets, linear_model\n",
    "from sklearn.model_selection import train_test_split\n",
    "from sklearn.metrics import mean_squared_error, r2_score\n",
    "import pandas as pd"
   ]
  },
  {
   "cell_type": "code",
   "execution_count": 21,
   "metadata": {},
   "outputs": [
    {
     "name": "stdout",
     "output_type": "stream",
     "text": [
      "error=25.475\n"
     ]
    }
   ],
   "source": [
    "boston_raw=datasets.load_boston()\n",
    "boston_x=pd.DataFrame(boston_raw.data, columns=boston_raw.feature_names)\n",
    "bost_y=pd.DataFrame(boston_raw.target)\n",
    "\n",
    "train_x,test_x,train_y,test_y=train_test_split(boston_x,bost_y,train_size=0.3) \n",
    "\n",
    "LR=linear_model.LinearRegression()\n",
    "LR.fit(train_x,train_y)\n",
    "hat_y=LR.predict(test_x)\n",
    "error=mean_squared_error(hat_y,test_y)\n",
    "\n",
    "print('error={:.3f}'.format(error))"
   ]
  },
  {
   "cell_type": "markdown",
   "metadata": {},
   "source": [
    "# LASSO Regularization"
   ]
  },
  {
   "cell_type": "code",
   "execution_count": 24,
   "metadata": {},
   "outputs": [
    {
     "data": {
      "text/plain": [
       "[40.18179749327611,\n",
       " 27.259494099236495,\n",
       " 25.791816820660788,\n",
       " 25.176972638346772,\n",
       " 25.439621039687207,\n",
       " 25.47103830543777]"
      ]
     },
     "execution_count": 24,
     "metadata": {},
     "output_type": "execute_result"
    }
   ],
   "source": [
    "alpha=[10,1,0.1,0.01,0.001,0.0001]\n",
    "error=[]\n",
    "for i in alpha:\n",
    "    lasso=linear_model.Lasso(alpha=i,random_state=1)\n",
    "    lasso.fit(train_x,train_y)\n",
    "    hat_y=lasso.predict(test_x)\n",
    "    error.append(mean_squared_error(hat_y, test_y))\n",
    "error"
   ]
  },
  {
   "cell_type": "code",
   "execution_count": 25,
   "metadata": {},
   "outputs": [
    {
     "name": "stdout",
     "output_type": "stream",
     "text": [
      "[-0.          0.02538641 -0.          0.         -0.          0.\n",
      "  0.         -0.          0.         -0.01228793 -0.          0.00420664\n",
      " -0.58754211]\n",
      "[ 0.00000000e+00  2.83085331e-02 -1.69817010e-03  0.00000000e+00\n",
      " -0.00000000e+00  1.98186419e+00  2.80625165e-02 -3.69718066e-01\n",
      "  1.87410658e-01 -1.49127414e-02 -5.62878661e-01  3.99908235e-03\n",
      " -7.96372176e-01]\n",
      "[-0.00000000e+00  1.71460394e-02 -3.66518924e-02  6.79458390e-02\n",
      " -0.00000000e+00  5.51329077e+00 -4.20949784e-03 -8.03528844e-01\n",
      "  1.83618372e-01 -1.40985282e-02 -7.60208273e-01  8.09313616e-03\n",
      " -5.21670236e-01]\n",
      "[-1.19818551e-02  1.24397761e-02  5.21883001e-02  2.24617098e+00\n",
      " -2.21209978e+01  5.26144581e+00  1.68648040e-02 -1.13535420e+00\n",
      "  2.42372852e-01 -1.21225146e-02 -9.79795367e-01  3.56664889e-03\n",
      " -5.38529013e-01]\n",
      "[-1.37939532e-02  1.18218681e-02  6.79554370e-02  2.50101577e+00\n",
      " -2.55644016e+01  5.20563540e+00  2.04286219e-02 -1.18320894e+00\n",
      "  2.52295968e-01 -1.18796179e-02 -1.01475351e+00  2.84368282e-03\n",
      " -5.43132130e-01]\n",
      "[-1.39754742e-02  1.17602112e-02  6.95315128e-02  2.52650001e+00\n",
      " -2.59087652e+01  5.20004875e+00  2.07851476e-02 -1.18799646e+00\n",
      "  2.53289060e-01 -1.18553404e-02 -1.01824923e+00  2.77137151e-03\n",
      " -5.43592926e-01]\n"
     ]
    }
   ],
   "source": [
    "\n",
    "for i in alpha:\n",
    "    lasso=linear_model.Lasso(alpha=i,random_state=1)\n",
    "    lasso.fit(train_x,train_y)\n",
    "    hat_y=lasso.predict(test_x)\n",
    "    print(lasso.coef_)\n"
   ]
  },
  {
   "cell_type": "markdown",
   "metadata": {},
   "source": [
    "# Ridge Regularization"
   ]
  },
  {
   "cell_type": "code",
   "execution_count": 29,
   "metadata": {},
   "outputs": [
    {
     "data": {
      "text/plain": [
       "[24.548218147206732,\n",
       " 24.964564679926976,\n",
       " 25.113365378172684,\n",
       " 25.420788286504045,\n",
       " 25.468963802563565,\n",
       " 25.474023721755042]"
      ]
     },
     "execution_count": 29,
     "metadata": {},
     "output_type": "execute_result"
    }
   ],
   "source": [
    "alpha=[10,1,0.1,0.01,0.001,0.0001]\n",
    "error_ridge=[]\n",
    "for i in alpha:\n",
    "    ridge=linear_model.Ridge(alpha=i,random_state=1)\n",
    "    ridge.fit(train_x,train_y)\n",
    "    hat_y=ridge.predict(test_x)\n",
    "    error_ridge.append(mean_squared_error(hat_y, test_y))\n",
    "error_ridge"
   ]
  },
  {
   "cell_type": "code",
   "execution_count": 30,
   "metadata": {},
   "outputs": [
    {
     "name": "stdout",
     "output_type": "stream",
     "text": [
      "[[-6.01922686e-03  2.48165025e-02 -5.80570524e-02  8.87328178e-01\n",
      "  -1.08600997e+00  4.46809839e+00  2.13374184e-03 -9.06472840e-01\n",
      "   2.10247026e-01 -1.45856261e-02 -7.62678240e-01  6.92326742e-03\n",
      "  -6.00892391e-01]]\n",
      "[[-5.23858860e-03  1.55757668e-02 -1.55448329e-02  1.76309063e+00\n",
      "  -7.59965801e+00  5.50278385e+00  5.85550028e-04 -9.52923088e-01\n",
      "   2.02542086e-01 -1.32370324e-02 -8.27452960e-01  6.66858781e-03\n",
      "  -5.16661999e-01]]\n",
      "[[-1.14455898e-02  1.25889710e-02  4.64360984e-02  2.34306707e+00\n",
      "  -2.08743936e+01  5.31366581e+00  1.49965433e-02 -1.12204261e+00\n",
      "   2.38581689e-01 -1.22097625e-02 -9.65429322e-01  3.87314388e-03\n",
      "  -5.33650511e-01]]\n",
      "[[-1.36843409e-02  1.18520273e-02  6.68846105e-02  2.50705951e+00\n",
      "  -2.53310748e+01  5.21367998e+00  2.01141083e-02 -1.18043789e+00\n",
      "   2.51590426e-01 -1.18956750e-02 -1.01217171e+00  2.89847387e-03\n",
      "  -5.42398731e-01]]\n",
      "[[-1.39638379e-02  1.17633999e-02  6.94183525e-02  2.52706006e+00\n",
      "  -2.58840992e+01  5.20088889e+00  2.07520915e-02 -1.18770171e+00\n",
      "   2.53214414e-01 -1.18570317e-02 -1.01797700e+00  2.77714761e-03\n",
      "  -5.43516424e-01]]\n",
      "[[-1.39924794e-02  1.17543516e-02  6.96778066e-02  2.52910486e+00\n",
      "  -2.59407368e+01  5.19957504e+00  2.08174597e-02 -1.18844581e+00\n",
      "   2.53380832e-01 -1.18530775e-02 -1.01857159e+00  2.76471825e-03\n",
      "  -5.43631214e-01]]\n"
     ]
    }
   ],
   "source": [
    "for i in alpha:\n",
    "    ridge=linear_model.Ridge(alpha=i,random_state=1)\n",
    "    ridge.fit(train_x,train_y)\n",
    "    hat_y=ridge.predict(test_x)\n",
    "    print(ridge.coef_)"
   ]
  },
  {
   "cell_type": "code",
   "execution_count": null,
   "metadata": {},
   "outputs": [],
   "source": []
  }
 ],
 "metadata": {
  "kernelspec": {
   "display_name": "Python 3",
   "language": "python",
   "name": "python3"
  },
  "language_info": {
   "codemirror_mode": {
    "name": "ipython",
    "version": 3
   },
   "file_extension": ".py",
   "mimetype": "text/x-python",
   "name": "python",
   "nbconvert_exporter": "python",
   "pygments_lexer": "ipython3",
   "version": "3.7.3"
  }
 },
 "nbformat": 4,
 "nbformat_minor": 2
}
