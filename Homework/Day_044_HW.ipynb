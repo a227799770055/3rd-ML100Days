{
 "cells": [
  {
   "cell_type": "markdown",
   "metadata": {},
   "source": [
    "## [作業重點]\n",
    "確保你了解隨機森林模型中每個超參數的意義，並觀察調整超參數對結果的影響"
   ]
  },
  {
   "cell_type": "markdown",
   "metadata": {},
   "source": [
    "## 作業\n",
    "\n",
    "1. 試著調整 RandomForestClassifier(...) 中的參數，並觀察是否會改變結果？\n",
    "2. 改用其他資料集 (boston, wine)，並與回歸模型與決策樹的結果進行比較"
   ]
  },
  {
   "cell_type": "markdown",
   "metadata": {},
   "source": [
    "# Set n_estimators = 40"
   ]
  },
  {
   "cell_type": "code",
   "execution_count": 38,
   "metadata": {},
   "outputs": [
    {
     "name": "stdout",
     "output_type": "stream",
     "text": [
      "run time=0.05006599426269531sec\n"
     ]
    }
   ],
   "source": [
    "from sklearn import datasets, metrics\n",
    "from sklearn.ensemble import RandomForestClassifier\n",
    "from sklearn.model_selection import train_test_split\n",
    "import pandas as pd\n",
    "import time\n",
    "wine=datasets.load_wine()\n",
    "wine_x=wine.data\n",
    "wine_y=wine.target\n",
    "train_x, test_x, train_y, test_y= train_test_split(wine_x, wine_y, train_size=0.3)\n",
    "\n",
    "start=time.time()\n",
    "clf=RandomForestClassifier(n_estimators=40, max_depth=None)\n",
    "clf.fit(train_x,train_y)\n",
    "hat_y=clf.predict(test_x)\n",
    "time=time.time()-start\n",
    "print('run time={}sec'.format(time))"
   ]
  },
  {
   "cell_type": "code",
   "execution_count": 39,
   "metadata": {},
   "outputs": [
    {
     "name": "stdout",
     "output_type": "stream",
     "text": [
      "accuracy=0.928\n"
     ]
    }
   ],
   "source": [
    "accuracy= metrics.accuracy_score(hat_y, test_y)\n",
    "print('accuracy={:.3f}'.format(accuracy))\n"
   ]
  },
  {
   "cell_type": "code",
   "execution_count": 40,
   "metadata": {},
   "outputs": [
    {
     "name": "stdout",
     "output_type": "stream",
     "text": [
      "    index                       Feature  importance\n",
      "0       1                    malic_acid    0.014635\n",
      "1       4                     magnesium    0.015404\n",
      "2       2                           ash    0.021732\n",
      "3       7          nonflavanoid_phenols    0.025796\n",
      "4       3             alcalinity_of_ash    0.034958\n",
      "5       5                 total_phenols    0.037198\n",
      "6       8               proanthocyanins    0.041587\n",
      "7      10                           hue    0.059202\n",
      "8       0                       alcohol    0.091895\n",
      "9      11  od280/od315_of_diluted_wines    0.115953\n",
      "10      9               color_intensity    0.146433\n",
      "11     12                       proline    0.156806\n",
      "12      6                    flavanoids    0.238400\n"
     ]
    }
   ],
   "source": [
    "fea_importance= clf.feature_importances_\n",
    "fea_importance=pd.DataFrame({'Feature':wine.feature_names,\n",
    "                            'importance':fea_importance})\n",
    "fea_importance=fea_importance.sort_values('importance').reset_index()\n",
    "print(fea_importance)"
   ]
  },
  {
   "cell_type": "markdown",
   "metadata": {},
   "source": [
    "# Set n_estimators = 5"
   ]
  },
  {
   "cell_type": "code",
   "execution_count": 42,
   "metadata": {},
   "outputs": [
    {
     "name": "stdout",
     "output_type": "stream",
     "text": [
      "accuracy=0.952\n",
      "================================================================\n",
      "    index                       Feature  importance\n",
      "0       4                     magnesium    0.000000\n",
      "1       8               proanthocyanins    0.000000\n",
      "2       9               color_intensity    0.011258\n",
      "3       3             alcalinity_of_ash    0.015845\n",
      "4       1                    malic_acid    0.020166\n",
      "5       2                           ash    0.075666\n",
      "6       5                 total_phenols    0.077437\n",
      "7       0                       alcohol    0.089092\n",
      "8      11  od280/od315_of_diluted_wines    0.094823\n",
      "9       7          nonflavanoid_phenols    0.107536\n",
      "10     10                           hue    0.137968\n",
      "11      6                    flavanoids    0.139577\n",
      "12     12                       proline    0.230633\n"
     ]
    }
   ],
   "source": [
    "from sklearn import datasets, metrics\n",
    "from sklearn.ensemble import RandomForestClassifier\n",
    "from sklearn.model_selection import train_test_split\n",
    "import pandas as pd\n",
    "wine=datasets.load_wine()\n",
    "wine_x=wine.data\n",
    "wine_y=wine.target\n",
    "train_x, test_x, train_y, test_y= train_test_split(wine_x, wine_y, train_size=0.3)\n",
    "\n",
    "clf=RandomForestClassifier(n_estimators=5, max_depth=None)\n",
    "clf.fit(train_x,train_y)\n",
    "hat_y=clf.predict(test_x)\n",
    "\n",
    "accuracy= metrics.accuracy_score(hat_y, test_y)\n",
    "print('accuracy={:.3f}'.format(accuracy))\n",
    "print('================================================================')\n",
    "fea_importance= clf.feature_importances_\n",
    "fea_importance=pd.DataFrame({'Feature':wine.feature_names,\n",
    "                            'importance':fea_importance})\n",
    "fea_importance=fea_importance.sort_values('importance').reset_index()\n",
    "print(fea_importance)"
   ]
  },
  {
   "cell_type": "code",
   "execution_count": null,
   "metadata": {},
   "outputs": [],
   "source": []
  }
 ],
 "metadata": {
  "kernelspec": {
   "display_name": "Python 3",
   "language": "python",
   "name": "python3"
  },
  "language_info": {
   "codemirror_mode": {
    "name": "ipython",
    "version": 3
   },
   "file_extension": ".py",
   "mimetype": "text/x-python",
   "name": "python",
   "nbconvert_exporter": "python",
   "pygments_lexer": "ipython3",
   "version": "3.7.3"
  }
 },
 "nbformat": 4,
 "nbformat_minor": 2
}
