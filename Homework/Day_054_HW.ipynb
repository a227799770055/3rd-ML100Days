{
 "cells": [
  {
   "cell_type": "markdown",
   "metadata": {},
   "source": [
    "# 作業\n",
    "* 試著想想看, 非監督學習是否有可能使用評價函數 (Metric) 來鑑別好壞呢?  \n",
    "(Hint : 可以分為 \"有目標值\" 與 \"無目標值\" 兩個方向思考)"
   ]
  },
  {
   "cell_type": "markdown",
   "metadata": {
    "collapsed": true
   },
   "source": [
    "有目標值的非監督學習可以利用目標值來評斷準確度 (accuracy)，而無目標值的非監督學習則無法從此面向下手。如果要進行評估的話僅能利用下列方式來進行評斷。\n",
    "\n",
    "１·相似度分析：假設資料的分佈呈現組內相似度高，組間相異度高的狀態。那麼我們會希望我們的模型訓練出來後盡可能地達到上述的狀況。\n",
    "\n",
    "２．分布擬合：如果我們對無監督學習的分佈的清晰的了解，那麼我們可以對資料進行分佈擬合的測試，譬如大多的資料會符合正太\n"
   ]
  }
 ],
 "metadata": {
  "kernelspec": {
   "display_name": "Python 3",
   "language": "python",
   "name": "python3"
  },
  "language_info": {
   "codemirror_mode": {
    "name": "ipython",
    "version": 3
   },
   "file_extension": ".py",
   "mimetype": "text/x-python",
   "name": "python",
   "nbconvert_exporter": "python",
   "pygments_lexer": "ipython3",
   "version": "3.7.3"
  }
 },
 "nbformat": 4,
 "nbformat_minor": 1
}
