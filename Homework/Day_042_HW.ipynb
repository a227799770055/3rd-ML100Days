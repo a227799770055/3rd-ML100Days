{
 "cells": [
  {
   "cell_type": "markdown",
   "metadata": {},
   "source": [
    "## [作業重點]\n",
    "目前你應該已經要很清楚資料集中，資料的型態是什麼樣子囉！包含特徵 (features) 與標籤 (labels)。因此要記得未來不管什麼專案，必須要把資料清理成相同的格式，才能送進模型訓練。\n",
    "今天的作業開始踏入決策樹這個非常重要的模型，請務必確保你理解模型中每個超參數的意思，並試著調整看看，對最終預測結果的影響為何"
   ]
  },
  {
   "cell_type": "markdown",
   "metadata": {},
   "source": [
    "## 作業\n",
    "\n",
    "1. 試著調整 DecisionTreeClassifier(...) 中的參數，並觀察是否會改變結果？\n",
    "2. 改用其他資料集 (boston, wine)，並與回歸模型的結果進行比較"
   ]
  },
  {
   "cell_type": "code",
   "execution_count": 45,
   "metadata": {},
   "outputs": [],
   "source": [
    "from sklearn import datasets, metrics\n",
    "import pandas as pd\n",
    "# 如果是分類問題，請使用 DecisionTreeClassifier，若為回歸問題，請使用 DecisionTreeRegressor\n",
    "from sklearn.tree import DecisionTreeClassifier, DecisionTreeRegressor\n",
    "from sklearn.model_selection import train_test_split"
   ]
  },
  {
   "cell_type": "code",
   "execution_count": 64,
   "metadata": {},
   "outputs": [
    {
     "name": "stdout",
     "output_type": "stream",
     "text": [
      "accuracy=0.926\n",
      "==============================================================================\n",
      "                    feature_name  feature_import\n",
      "0                        alcohol        0.000000\n",
      "1                     malic_acid        0.007593\n",
      "2                            ash        0.000000\n",
      "3              alcalinity_of_ash        0.000000\n",
      "4                      magnesium        0.000000\n",
      "5                  total_phenols        0.000000\n",
      "6                     flavanoids        0.000000\n",
      "7           nonflavanoid_phenols        0.000000\n",
      "8                proanthocyanins        0.023762\n",
      "9                color_intensity        0.079754\n",
      "10                           hue        0.049279\n",
      "11  od280/od315_of_diluted_wines        0.406426\n",
      "12                       proline        0.433186\n"
     ]
    }
   ],
   "source": [
    "wine=datasets.load_wine()\n",
    "wine_x=pd.DataFrame(wine.data, columns=wine.feature_names)\n",
    "wine_y=wine.target\n",
    "train_x, test_x, train_y, test_y= train_test_split(wine_x, wine_y, test_size=0.3)\n",
    "CART=DecisionTreeClassifier(criterion='gini', \n",
    "                            max_depth=None, \n",
    "                            min_samples_split=2, \n",
    "                            min_samples_leaf=1, \n",
    "                            )\n",
    "CART.fit(train_x, train_y)\n",
    "hat_y=CART.predict(test_x)\n",
    "accuracy=metrics.accuracy_score(hat_y, test_y)\n",
    "feature_importance=CART.feature_importances_\n",
    "feature_importance=pd.DataFrame({'feature_name':wine.feature_names,\n",
    "                                 'feature_import':feature_importance})\n",
    "print('accuracy={:.3f}'.format(accuracy))\n",
    "print('==============================================================================')\n",
    "print(feature_importance)"
   ]
  },
  {
   "cell_type": "code",
   "execution_count": 47,
   "metadata": {},
   "outputs": [],
   "source": [
    "from sklearn.externals.six import StringIO  \n",
    "from IPython.display import Image  \n",
    "from sklearn.tree import export_graphviz\n",
    "import pydotplus\n",
    "import os"
   ]
  },
  {
   "cell_type": "code",
   "execution_count": 48,
   "metadata": {},
   "outputs": [],
   "source": [
    "dot_data=StringIO()\n",
    "\n",
    "export_graphviz(CART, out_file=dot_data,\n",
    "               filled=True, rounded=True,\n",
    "               special_characters=True)\n",
    "\n",
    "graph=pydotplus.graph_from_dot_data(dot_data.getvalue())\n"
   ]
  },
  {
   "cell_type": "code",
   "execution_count": 49,
   "metadata": {},
   "outputs": [
    {
     "data": {
      "text/plain": [
       "True"
      ]
     },
     "execution_count": 49,
     "metadata": {},
     "output_type": "execute_result"
    }
   ],
   "source": [
    "graph.write_pdf('tree.pdf')"
   ]
  },
  {
   "cell_type": "code",
   "execution_count": null,
   "metadata": {},
   "outputs": [],
   "source": []
  },
  {
   "cell_type": "code",
   "execution_count": null,
   "metadata": {},
   "outputs": [],
   "source": []
  }
 ],
 "metadata": {
  "kernelspec": {
   "display_name": "Python 3",
   "language": "python",
   "name": "python3"
  },
  "language_info": {
   "codemirror_mode": {
    "name": "ipython",
    "version": 3
   },
   "file_extension": ".py",
   "mimetype": "text/x-python",
   "name": "python",
   "nbconvert_exporter": "python",
   "pygments_lexer": "ipython3",
   "version": "3.7.3"
  }
 },
 "nbformat": 4,
 "nbformat_minor": 2
}
