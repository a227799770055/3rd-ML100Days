{
 "cells": [
  {
   "cell_type": "markdown",
   "metadata": {},
   "source": [
    "## [作業重點]\n",
    "了解如何使用 Sklearn 中的 hyper-parameter search 找出最佳的超參數"
   ]
  },
  {
   "cell_type": "markdown",
   "metadata": {},
   "source": [
    "### 作業\n",
    "請使用不同的資料集，並使用 hyper-parameter search 的方式，看能不能找出最佳的超參數組合"
   ]
  },
  {
   "cell_type": "code",
   "execution_count": 9,
   "metadata": {},
   "outputs": [],
   "source": [
    "from sklearn import datasets, metrics\n",
    "from sklearn.model_selection import train_test_split, KFold, GridSearchCV\n",
    "from sklearn.ensemble import GradientBoostingClassifier\n",
    "import pandas as pd\n"
   ]
  },
  {
   "cell_type": "code",
   "execution_count": null,
   "metadata": {},
   "outputs": [],
   "source": [
    "wine.target()"
   ]
  },
  {
   "cell_type": "code",
   "execution_count": 32,
   "metadata": {},
   "outputs": [
    {
     "name": "stdout",
     "output_type": "stream",
     "text": [
      "accuracy=0.9213483146067416\n"
     ]
    }
   ],
   "source": [
    "wine=datasets.load_wine()\n",
    "wine_x=wine.data\n",
    "wine_y=wine.target\n",
    "train_x, test_x, train_y, test_y= train_test_split(wine_x, wine_y, test_size=0.5)\n",
    "\n",
    "clf=GradientBoostingClassifier(loss='deviance')\n",
    "clf.fit(train_x,train_y)\n",
    "hat_y= clf.predict(test_x)\n",
    "\n",
    "accuracy=metrics.accuracy_score(hat_y, test_y)\n",
    "print('accuracy={}'.format(accuracy))\n"
   ]
  },
  {
   "cell_type": "code",
   "execution_count": 50,
   "metadata": {},
   "outputs": [
    {
     "name": "stderr",
     "output_type": "stream",
     "text": [
      "/usr/local/anaconda3/lib/python3.7/site-packages/sklearn/model_selection/_search.py:813: DeprecationWarning: The default of the `iid` parameter will change from True to False in version 0.22 and will be removed in 0.24. This will change numeric results when test-set sizes are unequal.\n",
      "  DeprecationWarning)\n"
     ]
    }
   ],
   "source": [
    "loss=['deviance']\n",
    "max_depth=[3,10,50]\n",
    "n_estimators=[10,50,100,500,1000,2000]\n",
    "param_grid=dict(n_estimators=n_estimators,\n",
    "           max_depth=max_depth)\n",
    "grid_search=GridSearchCV(clf, param_grid, cv=5, scoring='accuracy')\n",
    "\n",
    "grid_result=grid_search.fit(train_x,train_y)\n"
   ]
  },
  {
   "cell_type": "code",
   "execution_count": 51,
   "metadata": {},
   "outputs": [
    {
     "data": {
      "text/plain": [
       "0.9438202247191011"
      ]
     },
     "execution_count": 51,
     "metadata": {},
     "output_type": "execute_result"
    }
   ],
   "source": [
    "grid_result.best_score_"
   ]
  },
  {
   "cell_type": "code",
   "execution_count": 52,
   "metadata": {},
   "outputs": [
    {
     "data": {
      "text/plain": [
       "{'max_depth': 3, 'n_estimators': 100}"
      ]
     },
     "execution_count": 52,
     "metadata": {},
     "output_type": "execute_result"
    }
   ],
   "source": [
    "grid_search.best_params_"
   ]
  },
  {
   "cell_type": "code",
   "execution_count": 53,
   "metadata": {},
   "outputs": [
    {
     "name": "stdout",
     "output_type": "stream",
     "text": [
      "accuracy=0.9662921348314607\n"
     ]
    }
   ],
   "source": [
    "wine=datasets.load_wine()\n",
    "wine_x=wine.data\n",
    "wine_y=wine.target\n",
    "train_x, test_x, train_y, test_y= train_test_split(wine_x, wine_y, test_size=0.5)\n",
    "\n",
    "clf=GradientBoostingClassifier(loss='deviance',max_depth=3,n_estimators=100)\n",
    "clf.fit(train_x,train_y)\n",
    "hat_y= clf.predict(test_x)\n",
    "\n",
    "accuracy=metrics.accuracy_score(hat_y, test_y)\n",
    "print('accuracy={}'.format(accuracy))\n",
    "\n"
   ]
  },
  {
   "cell_type": "code",
   "execution_count": null,
   "metadata": {},
   "outputs": [],
   "source": []
  }
 ],
 "metadata": {
  "kernelspec": {
   "display_name": "Python 3",
   "language": "python",
   "name": "python3"
  },
  "language_info": {
   "codemirror_mode": {
    "name": "ipython",
    "version": 3
   },
   "file_extension": ".py",
   "mimetype": "text/x-python",
   "name": "python",
   "nbconvert_exporter": "python",
   "pygments_lexer": "ipython3",
   "version": "3.7.3"
  }
 },
 "nbformat": 4,
 "nbformat_minor": 2
}
